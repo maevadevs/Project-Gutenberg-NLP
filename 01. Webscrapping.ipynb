{
 "cells": [
  {
   "cell_type": "markdown",
   "id": "utility-compiler",
   "metadata": {},
   "source": [
    "# Webscrapping"
   ]
  },
  {
   "cell_type": "markdown",
   "id": "induced-netscape",
   "metadata": {
    "toc": true
   },
   "source": [
    "<h1>Table of Contents<span class=\"tocSkip\"></span></h1>\n",
    "<div class=\"toc\"><ul class=\"toc-item\"></ul></div>"
   ]
  },
  {
   "cell_type": "markdown",
   "id": "2f56386b",
   "metadata": {},
   "source": [
    "Import all the needed libraries first"
   ]
  },
  {
   "cell_type": "code",
   "execution_count": 1,
   "id": "b320d37f",
   "metadata": {},
   "outputs": [],
   "source": [
    "# Import libraries\n",
    "import os\n",
    "import requests as req\n",
    "from bs4 import BeautifulSoup\n",
    "from os import path"
   ]
  },
  {
   "cell_type": "markdown",
   "id": "081db687",
   "metadata": {},
   "source": [
    "From Project Gutenberg, find the book and store the relevant url"
   ]
  },
  {
   "cell_type": "code",
   "execution_count": 2,
   "id": "regulation-stopping",
   "metadata": {},
   "outputs": [],
   "source": [
    "# Source of text for Moby Dick\n",
    "# url = \"https://www.gutenberg.org/files/2701/2701-h/2701-h.htm\"\n",
    "url = \"https://www.gutenberg.org/files/1342/1342-h/1342-h.htm\""
   ]
  },
  {
   "cell_type": "markdown",
   "id": "11de0033",
   "metadata": {},
   "source": [
    "Make the request object and check the object type returned"
   ]
  },
  {
   "cell_type": "code",
   "execution_count": 3,
   "id": "c60041e1",
   "metadata": {},
   "outputs": [],
   "source": [
    "# Make GET request\n",
    "res = req.get(url)\n",
    "\n",
    "# Check the type of response\n",
    "# print(type(res))"
   ]
  },
  {
   "cell_type": "markdown",
   "id": "137dc33c",
   "metadata": {},
   "source": [
    "Extract the HTML from the response object"
   ]
  },
  {
   "cell_type": "code",
   "execution_count": 4,
   "id": "0ac644c9",
   "metadata": {},
   "outputs": [],
   "source": [
    "# Extract HTML\n",
    "html = res.text\n",
    "#print(html)"
   ]
  },
  {
   "cell_type": "markdown",
   "id": "68e9b96b",
   "metadata": {},
   "source": [
    "Wrangle the HTML to extract the novel using BeautifulSoup"
   ]
  },
  {
   "cell_type": "code",
   "execution_count": 5,
   "id": "af82c4ee",
   "metadata": {},
   "outputs": [],
   "source": [
    "# Create a BeautifulSoup object\n",
    "soup = BeautifulSoup(html)\n",
    "#type(soup)"
   ]
  },
  {
   "cell_type": "markdown",
   "id": "5e590a98",
   "metadata": {},
   "source": [
    "We should now have access to all the tags on the HTML page as it has been parsed"
   ]
  },
  {
   "cell_type": "code",
   "execution_count": 6,
   "id": "d6da7552",
   "metadata": {},
   "outputs": [],
   "source": [
    "# Access the title of the HTML document\n",
    "html_title = soup.title.string\n",
    "\n",
    "# Access the first 10 hyperlinks in the HTML document\n",
    "links_10 = soup.findAll(\"a\")[:5]\n",
    "\n",
    "# print(html_title)\n",
    "# print(\"\")\n",
    "# for link in links_10:\n",
    "#     print(link)"
   ]
  },
  {
   "cell_type": "markdown",
   "id": "8f9e9185",
   "metadata": {},
   "source": [
    "What we are really interested in is the text of this page, which is the novel"
   ]
  },
  {
   "cell_type": "code",
   "execution_count": 7,
   "id": "817ac898",
   "metadata": {},
   "outputs": [],
   "source": [
    "# Access the text of the page for the novel\n",
    "text = soup.get_text()\n",
    "# print(text)"
   ]
  },
  {
   "cell_type": "markdown",
   "id": "89fe7aad",
   "metadata": {},
   "source": [
    "We now have the text we need. For cleanups and analysis, we will use different notebooks. For now, we will export this into a text file."
   ]
  },
  {
   "cell_type": "code",
   "execution_count": 8,
   "id": "628378ad",
   "metadata": {},
   "outputs": [],
   "source": [
    "# Export text into a text file\n",
    "if not path.exists(\"scrapped\"):\n",
    "    os.mkdir(\"scrapped\")\n",
    "\n",
    "# filepath = os.path.join(os.getcwd(), \"scrapped\", \"mobydick.txt\")\n",
    "filepath = os.path.join(os.getcwd(), \"scrapped\", \"pride_and_prejudice.txt\")\n",
    "\n",
    "with open(filepath, \"w\", encoding=\"utf8\") as file:\n",
    "    file.write(text)"
   ]
  }
 ],
 "metadata": {
  "kernelspec": {
   "display_name": "Python 3",
   "language": "python",
   "name": "python3"
  },
  "language_info": {
   "codemirror_mode": {
    "name": "ipython",
    "version": 3
   },
   "file_extension": ".py",
   "mimetype": "text/x-python",
   "name": "python",
   "nbconvert_exporter": "python",
   "pygments_lexer": "ipython3",
   "version": "3.9.4"
  },
  "toc": {
   "base_numbering": 1,
   "nav_menu": {},
   "number_sections": true,
   "sideBar": true,
   "skip_h1_title": true,
   "title_cell": "Table of Contents",
   "title_sidebar": "Contents",
   "toc_cell": true,
   "toc_position": {},
   "toc_section_display": true,
   "toc_window_display": true
  },
  "varInspector": {
   "cols": {
    "lenName": 16,
    "lenType": 16,
    "lenVar": 40
   },
   "kernels_config": {
    "python": {
     "delete_cmd_postfix": "",
     "delete_cmd_prefix": "del ",
     "library": "var_list.py",
     "varRefreshCmd": "print(var_dic_list())"
    },
    "r": {
     "delete_cmd_postfix": ") ",
     "delete_cmd_prefix": "rm(",
     "library": "var_list.r",
     "varRefreshCmd": "cat(var_dic_list()) "
    }
   },
   "types_to_exclude": [
    "module",
    "function",
    "builtin_function_or_method",
    "instance",
    "_Feature"
   ],
   "window_display": false
  }
 },
 "nbformat": 4,
 "nbformat_minor": 5
}
